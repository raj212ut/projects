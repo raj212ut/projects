{
 "cells": [
  {
   "cell_type": "code",
   "execution_count": 32,
   "id": "3df088ad-247c-4dda-927a-398eca470cab",
   "metadata": {},
   "outputs": [],
   "source": [
    "import pandas as p\n",
    "import numpy as n\n",
    "from sklearn.preprocessing import LabelEncoder"
   ]
  },
  {
   "cell_type": "code",
   "execution_count": 33,
   "id": "2f231f60-8bc7-43d5-8680-f71baac81c26",
   "metadata": {},
   "outputs": [],
   "source": [
    "d = p.read_csv(\"data/diets.csv\")"
   ]
  },
  {
   "cell_type": "code",
   "execution_count": null,
   "id": "2829077a-b765-4c89-a63f-bfb3519f0112",
   "metadata": {},
   "outputs": [],
   "source": []
  },
  {
   "cell_type": "code",
   "execution_count": 34,
   "id": "aae306a8-ea91-4c0f-94c0-07517931bd63",
   "metadata": {},
   "outputs": [],
   "source": [
    "le = LabelEncoder()\n",
    "d['Disease_n'] = le.fit_transform(d['Disease'])"
   ]
  },
  {
   "cell_type": "code",
   "execution_count": 37,
   "id": "9f909f42-bf42-42ca-9793-c159080b2a48",
   "metadata": {},
   "outputs": [
    {
     "data": {
      "text/html": [
       "<div>\n",
       "<style scoped>\n",
       "    .dataframe tbody tr th:only-of-type {\n",
       "        vertical-align: middle;\n",
       "    }\n",
       "\n",
       "    .dataframe tbody tr th {\n",
       "        vertical-align: top;\n",
       "    }\n",
       "\n",
       "    .dataframe thead th {\n",
       "        text-align: right;\n",
       "    }\n",
       "</style>\n",
       "<table border=\"1\" class=\"dataframe\">\n",
       "  <thead>\n",
       "    <tr style=\"text-align: right;\">\n",
       "      <th></th>\n",
       "      <th>Disease</th>\n",
       "      <th>Diet</th>\n",
       "      <th>Disease_n</th>\n",
       "    </tr>\n",
       "  </thead>\n",
       "  <tbody>\n",
       "    <tr>\n",
       "      <th>0</th>\n",
       "      <td>Fungal infection</td>\n",
       "      <td>['Antifungal Diet', 'Probiotics', 'Garlic', 'C...</td>\n",
       "      <td>15</td>\n",
       "    </tr>\n",
       "    <tr>\n",
       "      <th>1</th>\n",
       "      <td>Allergy</td>\n",
       "      <td>['Elimination Diet', 'Omega-3-rich foods', 'Vi...</td>\n",
       "      <td>4</td>\n",
       "    </tr>\n",
       "  </tbody>\n",
       "</table>\n",
       "</div>"
      ],
      "text/plain": [
       "            Disease                                               Diet  \\\n",
       "0  Fungal infection  ['Antifungal Diet', 'Probiotics', 'Garlic', 'C...   \n",
       "1           Allergy  ['Elimination Diet', 'Omega-3-rich foods', 'Vi...   \n",
       "\n",
       "   Disease_n  \n",
       "0         15  \n",
       "1          4  "
      ]
     },
     "execution_count": 37,
     "metadata": {},
     "output_type": "execute_result"
    }
   ],
   "source": [
    "d[:2]"
   ]
  },
  {
   "cell_type": "code",
   "execution_count": 61,
   "id": "d75c1ebb-71ef-4baf-bd06-a57ebdc4874e",
   "metadata": {},
   "outputs": [],
   "source": [
    "def get_diet_for_disease(disease_name, df):\n",
    "    if disease_name in df['Disease'].values:\n",
    "        diet = df[df['Disease'] == disease_name]['Diet'].values[0]\n",
    "        print(f\"Diet for {disease_name}: {diet}\")\n",
    "    else:\n",
    "        print(\"Disease not found in the list.\")\n",
    "         "
   ]
  },
  {
   "cell_type": "code",
   "execution_count": 59,
   "id": "85b2e59c-1bb4-4661-8be6-150d4408e54f",
   "metadata": {},
   "outputs": [
    {
     "name": "stdin",
     "output_type": "stream",
     "text": [
      " Allergy\n"
     ]
    },
    {
     "name": "stdout",
     "output_type": "stream",
     "text": [
      "Diet for Allergy: ['Elimination Diet', 'Omega-3-rich foods', 'Vitamin C-rich foods', 'Quercetin-rich foods', 'Probiotics']\n"
     ]
    }
   ],
   "source": [
    "disease_name = input()\n",
    "get_diet_for_disease(disease_name, d)"
   ]
  },
  {
   "cell_type": "code",
   "execution_count": null,
   "id": "3e663d0d-5ad9-40e8-bf36-8e95fa465932",
   "metadata": {},
   "outputs": [],
   "source": []
  }
 ],
 "metadata": {
  "kernelspec": {
   "display_name": "Python 3 (ipykernel)",
   "language": "python",
   "name": "python3"
  },
  "language_info": {
   "codemirror_mode": {
    "name": "ipython",
    "version": 3
   },
   "file_extension": ".py",
   "mimetype": "text/x-python",
   "name": "python",
   "nbconvert_exporter": "python",
   "pygments_lexer": "ipython3",
   "version": "3.12.3"
  }
 },
 "nbformat": 4,
 "nbformat_minor": 5
}
